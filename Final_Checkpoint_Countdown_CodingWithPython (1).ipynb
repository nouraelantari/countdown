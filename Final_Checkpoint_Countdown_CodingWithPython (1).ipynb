{
 "cells": [
  {
   "cell_type": "code",
   "execution_count": 2,
   "metadata": {},
   "outputs": [
    {
     "name": "stdout",
     "output_type": "stream",
     "text": [
      "Enter the time in seconds: 4\n"
     ]
    }
   ],
   "source": [
    "import time\n",
    "\n",
    "t = int(input(\"Enter the time in seconds: \"))\n",
    "\n",
    "#create a function that asks a user for their input in seconds and other operations\n",
    "def countdown(t):\n",
    "    while t:\n",
    "        \n",
    "        minutes, seconds = divmod(t, 60)\n",
    "        print( '{:02d}:{:02d}'. format(minutes, seconds), end = '\\r')\n",
    "        time.sleep(1)\n",
    "        \n",
    "        #Decrement the while loop\n",
    "        t -= 1\n",
    "    print(\"Fire in the hole\")\n"
   ]
  },
  {
   "cell_type": "code",
   "execution_count": 3,
   "metadata": {},
   "outputs": [
    {
     "name": "stdout",
     "output_type": "stream",
     "text": [
      "Fire in the hole\n"
     ]
    }
   ],
   "source": [
    "countdown(t)"
   ]
  },
  {
   "cell_type": "code",
   "execution_count": null,
   "metadata": {},
   "outputs": [],
   "source": []
  }
 ],
 "metadata": {
  "kernelspec": {
   "display_name": "Python 3 (ipykernel)",
   "language": "python",
   "name": "python3"
  },
  "language_info": {
   "codemirror_mode": {
    "name": "ipython",
    "version": 3
   },
   "file_extension": ".py",
   "mimetype": "text/x-python",
   "name": "python",
   "nbconvert_exporter": "python",
   "pygments_lexer": "ipython3",
   "version": "3.9.7"
  }
 },
 "nbformat": 4,
 "nbformat_minor": 2
}
